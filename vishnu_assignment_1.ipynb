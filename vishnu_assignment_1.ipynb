{
 "cells": [
  {
   "cell_type": "code",
   "execution_count": 103,
   "metadata": {},
   "outputs": [
    {
     "name": "stdout",
     "output_type": "stream",
     "text": [
      "i divisible by 7 and not multiple by 5 btw 2000 and 3200\n",
      "2002,2009,2016,2023,2037,2044,2051,2058,2072,2079,2086,2093,2107,2114,2121,2128,2142,2149,2156,2163,2177,2184,2191,2198,2212,2219,2226,2233,2247,2254,2261,2268,2282,2289,2296,2303,2317,2324,2331,2338,2352,2359,2366,2373,2387,2394,2401,2408,2422,2429,2436,2443,2457,2464,2471,2478,2492,2499,2506,2513,2527,2534,2541,2548,2562,2569,2576,2583,2597,2604,2611,2618,2632,2639,2646,2653,2667,2674,2681,2688,2702,2709,2716,2723,2737,2744,2751,2758,2772,2779,2786,2793,2807,2814,2821,2828,2842,2849,2856,2863,2877,2884,2891,2898,2912,2919,2926,2933,2947,2954,2961,2968,2982,2989,2996,3003,3017,3024,3031,3038,3052,3059,3066,3073,3087,3094,3101,3108,3122,3129,3136,3143,3157,3164,3171,3178,3192,3199\n"
     ]
    }
   ],
   "source": [
    "s=''\n",
    "dl=''\n",
    "print('i divisible by 7 and not multiple by 5 btw 2000 and 3200')\n",
    "for i in range (2000,3201):\n",
    "    if (i%7==0 and i%5!=0):\n",
    "        s=s+dl+str(i)\n",
    "        dl=','\n",
    "print(s)"
   ]
  },
  {
   "cell_type": "code",
   "execution_count": 102,
   "metadata": {},
   "outputs": [
    {
     "name": "stdout",
     "output_type": "stream",
     "text": [
      "i divisible by 7 and not multiple by 5 btw 2000 and 3200\n",
      "2002,2009,2016,2023,2037,2044,2051,2058,2072,2079,2086,2093,2107,2114,2121,2128,2142,2149,2156,2163,2177,2184,2191,2198,2212,2219,2226,2233,2247,2254,2261,2268,2282,2289,2296,2303,2317,2324,2331,2338,2352,2359,2366,2373,2387,2394,2401,2408,2422,2429,2436,2443,2457,2464,2471,2478,2492,2499,2506,2513,2527,2534,2541,2548,2562,2569,2576,2583,2597,2604,2611,2618,2632,2639,2646,2653,2667,2674,2681,2688,2702,2709,2716,2723,2737,2744,2751,2758,2772,2779,2786,2793,2807,2814,2821,2828,2842,2849,2856,2863,2877,2884,2891,2898,2912,2919,2926,2933,2947,2954,2961,2968,2982,2989,2996,3003,3017,3024,3031,3038,3052,3059,3066,3073,3087,3094,3101,3108,3122,3129,3136,3143,3157,3164,3171,3178,3192,3199,\n"
     ]
    }
   ],
   "source": [
    "s=''\n",
    "print('i divisible by 7 and not multiple by 5 btw 2000 and 3200')\n",
    "for i in range (2000,3201):\n",
    "    if (i%7==0 and i%5!=0):\n",
    "        s=s+str(i)+ ','\n",
    "print(s)"
   ]
  },
  {
   "cell_type": "code",
   "execution_count": 2,
   "metadata": {},
   "outputs": [
    {
     "name": "stdout",
     "output_type": "stream",
     "text": [
      "10\n"
     ]
    }
   ],
   "source": [
    "i = 10 \n",
    "print(i)"
   ]
  },
  {
   "cell_type": "code",
   "execution_count": 92,
   "metadata": {},
   "outputs": [
    {
     "name": "stdout",
     "output_type": "stream",
     "text": [
      "enter first namevishnu\n",
      "enter last namepriya\n",
      "priya vishnu\n"
     ]
    }
   ],
   "source": [
    "first_name= input('enter first name')\n",
    "last_name= input('enter last name')\n",
    "print(last_name,first_name,sep=' ')\n"
   ]
  },
  {
   "cell_type": "code",
   "execution_count": 25,
   "metadata": {},
   "outputs": [
    {
     "name": "stdout",
     "output_type": "stream",
     "text": [
      "6.283185307179586\n"
     ]
    }
   ],
   "source": [
    "d=12\n",
    "import math\n",
    "pi=math.pi\n",
    "vol=4/3*pi*d/2**3\n",
    "print(vol)"
   ]
  },
  {
   "cell_type": "code",
   "execution_count": 107,
   "metadata": {},
   "outputs": [
    {
     "name": "stdout",
     "output_type": "stream",
     "text": [
      "enter req comma seperated numbers:11,12,13,14,15\n"
     ]
    },
    {
     "data": {
      "text/plain": [
       "[11, 12, 13, 14, 15]"
      ]
     },
     "execution_count": 107,
     "metadata": {},
     "output_type": "execute_result"
    }
   ],
   "source": [
    "m=[]\n",
    "op= str(input ('enter req comma seperated numbers:'))\n",
    "x=op.split(',')\n",
    "for i in x:\n",
    "    m.append(int(i))\n",
    "m\n"
   ]
  },
  {
   "cell_type": "code",
   "execution_count": 74,
   "metadata": {},
   "outputs": [
    {
     "name": "stdout",
     "output_type": "stream",
     "text": [
      "*\n",
      "**\n",
      "***\n",
      "****\n",
      "*****\n",
      "*****\n",
      "****\n",
      "***\n",
      "**\n",
      "*\n"
     ]
    }
   ],
   "source": [
    "\n",
    "for i in range (0,5):\n",
    "    for j in range (0,i+1):\n",
    "        print ('*',end='')\n",
    "    print('')\n",
    "    \n",
    "for k in range (5,0,-1):\n",
    "    for v in range (k,0,-1):\n",
    "        print('*',end='')\n",
    "    print('')\n",
    "\n",
    "    "
   ]
  },
  {
   "cell_type": "code",
   "execution_count": 106,
   "metadata": {},
   "outputs": [
    {
     "name": "stdout",
     "output_type": "stream",
     "text": [
      "enter value6\n",
      "666666\n",
      "55555\n",
      "4444\n",
      "333\n",
      "22\n",
      "1\n"
     ]
    }
   ],
   "source": [
    "rows= input(\"enter value\")\n",
    "for i in range (int(rows),0,-1):\n",
    "    for r in range(i,0,-1):\n",
    "        print (i,end='')\n",
    "    print('')      \n",
    "    \n",
    "    \n",
    "    \n"
   ]
  },
  {
   "cell_type": "code",
   "execution_count": 91,
   "metadata": {},
   "outputs": [
    {
     "name": "stdout",
     "output_type": "stream",
     "text": [
      "enter to reverseswetha\n"
     ]
    },
    {
     "data": {
      "text/plain": [
       "'ahtews'"
      ]
     },
     "execution_count": 91,
     "metadata": {},
     "output_type": "execute_result"
    }
   ],
   "source": [
    "a= input ('enter to reverse')\n",
    "l=len(a)\n",
    "s=a[l-1::-1]\n",
    "s\n",
    "\n",
    "\n",
    "\n"
   ]
  },
  {
   "cell_type": "code",
   "execution_count": 105,
   "metadata": {},
   "outputs": [
    {
     "name": "stdout",
     "output_type": "stream",
     "text": [
      "i divisible by 7 and not multiple by 5 btw 2000 and 3200\n",
      "7\n",
      "14\n",
      "7,14\n"
     ]
    }
   ],
   "source": [
    "s=''\n",
    "dl=''\n",
    "print('i divisible by 7 and not multiple by 5 btw 2000 and 3200')\n",
    "for i in range (1,20):\n",
    "    if (i%7==0 and i%5!=0):\n",
    "        print(i)\n",
    "        s=s+dl+str(i)\n",
    "        dl=','\n",
    "print(s)"
   ]
  },
  {
   "cell_type": "code",
   "execution_count": 110,
   "metadata": {},
   "outputs": [
    {
     "data": {
      "text/plain": [
       "[1, 'kumar', 3, 4]"
      ]
     },
     "execution_count": 110,
     "metadata": {},
     "output_type": "execute_result"
    }
   ],
   "source": [
    "l=[1,2,3,4]\n",
    "l\n",
    "l[1]='kumar'\n",
    "l"
   ]
  },
  {
   "cell_type": "code",
   "execution_count": 117,
   "metadata": {},
   "outputs": [
    {
     "name": "stdout",
     "output_type": "stream",
     "text": [
      "WE THE PEOPLE OF INDIA,\n",
      " having solemnly resolved to consitute india into a SOVEREIGN,!\n",
      " SOCIALIST,SECULAR,DEMOCRATIC,REPUBLIC\n",
      " and to secure to all its citizens\n"
     ]
    }
   ],
   "source": [
    "print('WE THE PEOPLE OF INDIA,\\n having solemnly resolved to consitute india into a SOVEREIGN,!\\n SOCIALIST,SECULAR,DEMOCRATIC,REPUBLIC\\n and to secure to all its citizens')"
   ]
  },
  {
   "cell_type": "code",
   "execution_count": null,
   "metadata": {},
   "outputs": [],
   "source": []
  }
 ],
 "metadata": {
  "kernelspec": {
   "display_name": "Python 3",
   "language": "python",
   "name": "python3"
  },
  "language_info": {
   "codemirror_mode": {
    "name": "ipython",
    "version": 3
   },
   "file_extension": ".py",
   "mimetype": "text/x-python",
   "name": "python",
   "nbconvert_exporter": "python",
   "pygments_lexer": "ipython3",
   "version": "3.7.6"
  }
 },
 "nbformat": 4,
 "nbformat_minor": 4
}
